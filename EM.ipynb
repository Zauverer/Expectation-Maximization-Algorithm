{
 "cells": [
  {
   "cell_type": "markdown",
   "metadata": {},
   "source": [
    "# Desafío Maximzación de las Esperanzas"
   ]
  },
  {
   "cell_type": "markdown",
   "metadata": {},
   "source": [
    "## 1. Preparación del ambiente de trabajo"
   ]
  },
  {
   "cell_type": "code",
   "execution_count": 1,
   "metadata": {},
   "outputs": [],
   "source": [
    "import numpy as np\n",
    "import pandas as pd\n",
    "import seaborn as sns\n",
    "import matplotlib.pyplot as plt\n",
    "\n",
    "from sklearn.model_selection import GridSearchCV\n",
    "from sklearn.feature_extraction.text import CountVectorizer\n",
    "from sklearn.decomposition import LatentDirichletAllocation\n",
    "\n",
    "import os\n",
    "import glob\n",
    "\n",
    "plt.style.use('seaborn')                \n",
    "plt.rcParams['figure.figsize'] = (8,6)  "
   ]
  },
  {
   "cell_type": "code",
   "execution_count": 2,
   "metadata": {},
   "outputs": [],
   "source": [
    "dire = os.getcwd()+'\\dump'"
   ]
  },
  {
   "cell_type": "code",
   "execution_count": 3,
   "metadata": {},
   "outputs": [],
   "source": [
    "df = pd.concat(map(pd.read_csv, glob.glob(dire+'/*.csv')))"
   ]
  },
  {
   "cell_type": "code",
   "execution_count": 4,
   "metadata": {},
   "outputs": [],
   "source": [
    "df.drop(labels='Unnamed: 0',axis=1, inplace=True)"
   ]
  },
  {
   "cell_type": "code",
   "execution_count": 5,
   "metadata": {},
   "outputs": [
    {
     "data": {
      "text/html": [
       "<div>\n",
       "<style scoped>\n",
       "    .dataframe tbody tr th:only-of-type {\n",
       "        vertical-align: middle;\n",
       "    }\n",
       "\n",
       "    .dataframe tbody tr th {\n",
       "        vertical-align: top;\n",
       "    }\n",
       "\n",
       "    .dataframe thead th {\n",
       "        text-align: right;\n",
       "    }\n",
       "</style>\n",
       "<table border=\"1\" class=\"dataframe\">\n",
       "  <thead>\n",
       "    <tr style=\"text-align: right;\">\n",
       "      <th></th>\n",
       "      <th>0</th>\n",
       "      <th>1</th>\n",
       "      <th>2</th>\n",
       "      <th>3</th>\n",
       "    </tr>\n",
       "  </thead>\n",
       "  <tbody>\n",
       "    <tr>\n",
       "      <th>49</th>\n",
       "      <td>Nickelback</td>\n",
       "      <td>rock</td>\n",
       "      <td>Yanking Out My...</td>\n",
       "      <td>Feelin' fine \\n Let's rip out yours instead of...</td>\n",
       "    </tr>\n",
       "    <tr>\n",
       "      <th>245</th>\n",
       "      <td>The Smashing Pumpkins</td>\n",
       "      <td>rock</td>\n",
       "      <td>Nothing And Everything</td>\n",
       "      <td>Hiding behind my hair today \\n My eyes dance w...</td>\n",
       "    </tr>\n",
       "    <tr>\n",
       "      <th>3</th>\n",
       "      <td>Faith No More</td>\n",
       "      <td>rock</td>\n",
       "      <td>Why Do You Bother?</td>\n",
       "      <td>Why hold on? \\n Your hands are getting sore \\n...</td>\n",
       "    </tr>\n",
       "    <tr>\n",
       "      <th>374</th>\n",
       "      <td>Eminem</td>\n",
       "      <td>hiphop</td>\n",
       "      <td>Microphone Fiend</td>\n",
       "      <td>Once again it's the sinister cynical minister ...</td>\n",
       "    </tr>\n",
       "    <tr>\n",
       "      <th>54</th>\n",
       "      <td>Dr. Dre</td>\n",
       "      <td>hiphop</td>\n",
       "      <td>Deep Water</td>\n",
       "      <td>Kendrick Lamar \\n (Where you from man?) \\n Q: ...</td>\n",
       "    </tr>\n",
       "    <tr>\n",
       "      <th>332</th>\n",
       "      <td>Bob Dylan</td>\n",
       "      <td>rock</td>\n",
       "      <td>High Water</td>\n",
       "      <td>High water risin' \\n Risin' night and day \\n A...</td>\n",
       "    </tr>\n",
       "    <tr>\n",
       "      <th>70</th>\n",
       "      <td>Anthrax</td>\n",
       "      <td>metal</td>\n",
       "      <td>Random Acts Of Senseless Violence</td>\n",
       "      <td>Shut up, don't pass the blame \\n The same god-...</td>\n",
       "    </tr>\n",
       "    <tr>\n",
       "      <th>82</th>\n",
       "      <td>Spice Girls</td>\n",
       "      <td>pop</td>\n",
       "      <td>This Is How We Party</td>\n",
       "      <td>This is how we party, fooling with your body, ...</td>\n",
       "    </tr>\n",
       "    <tr>\n",
       "      <th>64</th>\n",
       "      <td>De La Soul</td>\n",
       "      <td>hiphop</td>\n",
       "      <td>Dave Has A Problem...Seriously</td>\n",
       "      <td>Dave has a problem... seriously \\n DOVE: \\n Yo...</td>\n",
       "    </tr>\n",
       "    <tr>\n",
       "      <th>70</th>\n",
       "      <td>De La Soul</td>\n",
       "      <td>hiphop</td>\n",
       "      <td>Stix &amp; Stonz</td>\n",
       "      <td>Chorus: All \\n If you can dig it, deal with it...</td>\n",
       "    </tr>\n",
       "  </tbody>\n",
       "</table>\n",
       "</div>"
      ],
      "text/plain": [
       "                         0       1                                  2  \\\n",
       "49              Nickelback    rock                  Yanking Out My...   \n",
       "245  The Smashing Pumpkins    rock             Nothing And Everything   \n",
       "3            Faith No More    rock                 Why Do You Bother?   \n",
       "374                 Eminem  hiphop                   Microphone Fiend   \n",
       "54                 Dr. Dre  hiphop                         Deep Water   \n",
       "332              Bob Dylan    rock                         High Water   \n",
       "70                 Anthrax   metal  Random Acts Of Senseless Violence   \n",
       "82             Spice Girls     pop               This Is How We Party   \n",
       "64              De La Soul  hiphop     Dave Has A Problem...Seriously   \n",
       "70              De La Soul  hiphop                       Stix & Stonz   \n",
       "\n",
       "                                                     3  \n",
       "49   Feelin' fine \\n Let's rip out yours instead of...  \n",
       "245  Hiding behind my hair today \\n My eyes dance w...  \n",
       "3    Why hold on? \\n Your hands are getting sore \\n...  \n",
       "374  Once again it's the sinister cynical minister ...  \n",
       "54   Kendrick Lamar \\n (Where you from man?) \\n Q: ...  \n",
       "332  High water risin' \\n Risin' night and day \\n A...  \n",
       "70   Shut up, don't pass the blame \\n The same god-...  \n",
       "82   This is how we party, fooling with your body, ...  \n",
       "64   Dave has a problem... seriously \\n DOVE: \\n Yo...  \n",
       "70   Chorus: All \\n If you can dig it, deal with it...  "
      ]
     },
     "execution_count": 5,
     "metadata": {},
     "output_type": "execute_result"
    }
   ],
   "source": [
    "df.sample(10)"
   ]
  },
  {
   "cell_type": "code",
   "execution_count": 6,
   "metadata": {},
   "outputs": [],
   "source": [
    "columns_name={'0': 'artist',\n",
    "       '1': 'genre',\n",
    "       '2':'song',\n",
    "       '3':'lyrics'}"
   ]
  },
  {
   "cell_type": "code",
   "execution_count": 7,
   "metadata": {},
   "outputs": [],
   "source": [
    "df.rename(columns = columns_name, inplace=True)"
   ]
  },
  {
   "cell_type": "code",
   "execution_count": 8,
   "metadata": {},
   "outputs": [
    {
     "data": {
      "text/html": [
       "<div>\n",
       "<style scoped>\n",
       "    .dataframe tbody tr th:only-of-type {\n",
       "        vertical-align: middle;\n",
       "    }\n",
       "\n",
       "    .dataframe tbody tr th {\n",
       "        vertical-align: top;\n",
       "    }\n",
       "\n",
       "    .dataframe thead th {\n",
       "        text-align: right;\n",
       "    }\n",
       "</style>\n",
       "<table border=\"1\" class=\"dataframe\">\n",
       "  <thead>\n",
       "    <tr style=\"text-align: right;\">\n",
       "      <th></th>\n",
       "      <th>artist</th>\n",
       "      <th>genre</th>\n",
       "      <th>song</th>\n",
       "      <th>lyrics</th>\n",
       "    </tr>\n",
       "  </thead>\n",
       "  <tbody>\n",
       "    <tr>\n",
       "      <th>123</th>\n",
       "      <td>Mobb Deep</td>\n",
       "      <td>hiphop</td>\n",
       "      <td>Real Niggaz</td>\n",
       "      <td>(Intro Havoc) \\n Yeah y'all know what it is \\n...</td>\n",
       "    </tr>\n",
       "    <tr>\n",
       "      <th>180</th>\n",
       "      <td>The Smashing Pumpkins</td>\n",
       "      <td>rock</td>\n",
       "      <td>Tarantula</td>\n",
       "      <td>I don't want to fight every single night \\n Ev...</td>\n",
       "    </tr>\n",
       "    <tr>\n",
       "      <th>54</th>\n",
       "      <td>Nickelback</td>\n",
       "      <td>rock</td>\n",
       "      <td>Animals</td>\n",
       "      <td>I, I'm driving black on black \\n Just got my l...</td>\n",
       "    </tr>\n",
       "    <tr>\n",
       "      <th>34</th>\n",
       "      <td>Killer Mike</td>\n",
       "      <td>hiphop</td>\n",
       "      <td>Willie Burke Sherwood</td>\n",
       "      <td>No matter how good a woman is, she still can't...</td>\n",
       "    </tr>\n",
       "    <tr>\n",
       "      <th>52</th>\n",
       "      <td>Metallica</td>\n",
       "      <td>metal</td>\n",
       "      <td>Until It Sleeps</td>\n",
       "      <td>Where do I take this pain of mine? \\n I run bu...</td>\n",
       "    </tr>\n",
       "    <tr>\n",
       "      <th>216</th>\n",
       "      <td>Red Hot Chili Peppers</td>\n",
       "      <td>rock</td>\n",
       "      <td>The Hunter</td>\n",
       "      <td>Woke up this morning like I always do \\n I sti...</td>\n",
       "    </tr>\n",
       "    <tr>\n",
       "      <th>17</th>\n",
       "      <td>Weezer</td>\n",
       "      <td>rock</td>\n",
       "      <td>Pink Triangle</td>\n",
       "      <td>Unfortunately, we are not licensed to display ...</td>\n",
       "    </tr>\n",
       "    <tr>\n",
       "      <th>123</th>\n",
       "      <td>Michael Jackson</td>\n",
       "      <td>pop</td>\n",
       "      <td>You Are Not Alone (Classic Club Mix)</td>\n",
       "      <td>Another day has gone \\n I'm still all alone \\n...</td>\n",
       "    </tr>\n",
       "    <tr>\n",
       "      <th>1</th>\n",
       "      <td>Bruce Springsteen</td>\n",
       "      <td>rock</td>\n",
       "      <td>Growin' Up</td>\n",
       "      <td>Well I stood stone-like at midnight \\n Suspend...</td>\n",
       "    </tr>\n",
       "    <tr>\n",
       "      <th>265</th>\n",
       "      <td>Bob Dylan</td>\n",
       "      <td>rock</td>\n",
       "      <td>Death Is Not The End</td>\n",
       "      <td>When you're sad and when you're lonely and you...</td>\n",
       "    </tr>\n",
       "  </tbody>\n",
       "</table>\n",
       "</div>"
      ],
      "text/plain": [
       "                    artist   genre                                  song  \\\n",
       "123              Mobb Deep  hiphop                           Real Niggaz   \n",
       "180  The Smashing Pumpkins    rock                             Tarantula   \n",
       "54              Nickelback    rock                               Animals   \n",
       "34             Killer Mike  hiphop                 Willie Burke Sherwood   \n",
       "52               Metallica   metal                       Until It Sleeps   \n",
       "216  Red Hot Chili Peppers    rock                            The Hunter   \n",
       "17                  Weezer    rock                         Pink Triangle   \n",
       "123        Michael Jackson     pop  You Are Not Alone (Classic Club Mix)   \n",
       "1        Bruce Springsteen    rock                            Growin' Up   \n",
       "265              Bob Dylan    rock                  Death Is Not The End   \n",
       "\n",
       "                                                lyrics  \n",
       "123  (Intro Havoc) \\n Yeah y'all know what it is \\n...  \n",
       "180  I don't want to fight every single night \\n Ev...  \n",
       "54   I, I'm driving black on black \\n Just got my l...  \n",
       "34   No matter how good a woman is, she still can't...  \n",
       "52   Where do I take this pain of mine? \\n I run bu...  \n",
       "216  Woke up this morning like I always do \\n I sti...  \n",
       "17   Unfortunately, we are not licensed to display ...  \n",
       "123  Another day has gone \\n I'm still all alone \\n...  \n",
       "1    Well I stood stone-like at midnight \\n Suspend...  \n",
       "265  When you're sad and when you're lonely and you...  "
      ]
     },
     "execution_count": 8,
     "metadata": {},
     "output_type": "execute_result"
    }
   ],
   "source": [
    "df.sample(10)"
   ]
  },
  {
   "cell_type": "markdown",
   "metadata": {},
   "source": [
    "## 2. Matriz de ocurrencias"
   ]
  },
  {
   "cell_type": "code",
   "execution_count": 9,
   "metadata": {},
   "outputs": [],
   "source": [
    "vectorizer=CountVectorizer(stop_words='english', max_features=5000)\n",
    "count_vectorizer_fit = vectorizer.fit_transform(df['lyrics'])"
   ]
  },
  {
   "cell_type": "markdown",
   "metadata": {},
   "source": [
    "## 3. Entrenamiento del Modelo"
   ]
  },
  {
   "cell_type": "code",
   "execution_count": 10,
   "metadata": {},
   "outputs": [],
   "source": [
    "search_params = {'n_components': [5, 10, 15], 'learning_decay': [0.7, 0.5]}"
   ]
  },
  {
   "cell_type": "code",
   "execution_count": 11,
   "metadata": {},
   "outputs": [],
   "source": [
    "model_LDA = GridSearchCV(LatentDirichletAllocation(learning_method='online'),param_grid=search_params,cv = 5, n_jobs=-1).fit(count_vectorizer_fit)"
   ]
  },
  {
   "cell_type": "code",
   "execution_count": 13,
   "metadata": {},
   "outputs": [
    {
     "data": {
      "text/plain": [
       "{'learning_decay': 0.5, 'n_components': 5}"
      ]
     },
     "execution_count": 13,
     "metadata": {},
     "output_type": "execute_result"
    }
   ],
   "source": [
    "model_LDA.best_params_"
   ]
  },
  {
   "cell_type": "code",
   "execution_count": 14,
   "metadata": {},
   "outputs": [
    {
     "data": {
      "text/plain": [
       "-1853765.115269902"
      ]
     },
     "execution_count": 14,
     "metadata": {},
     "output_type": "execute_result"
    }
   ],
   "source": [
    "model_LDA.best_score_"
   ]
  },
  {
   "cell_type": "markdown",
   "metadata": {},
   "source": [
    "Los mejores parametro son: component 5 y learning decay de 0.5. "
   ]
  },
  {
   "cell_type": "markdown",
   "metadata": {},
   "source": [
    "## 4. Inferencia e Identificación de Tópicos"
   ]
  },
  {
   "cell_type": "code",
   "execution_count": 15,
   "metadata": {},
   "outputs": [],
   "source": [
    "model_LDA_best = model_LDA.best_estimator_"
   ]
  },
  {
   "cell_type": "code",
   "execution_count": 16,
   "metadata": {},
   "outputs": [
    {
     "data": {
      "text/plain": [
       "array([[ 0.20336975, 87.04038614,  0.25175309, ..., 24.04907678,\n",
       "        28.0921337 , 19.52745432],\n",
       "       [ 0.20460789,  0.20239855,  0.20332537, ...,  0.2039902 ,\n",
       "         0.20521264,  0.20254172],\n",
       "       [27.09825618, 20.96952698, 65.3585355 , ..., 19.75285813,\n",
       "         0.20215944,  0.20303721],\n",
       "       [ 0.20268107,  0.2031017 ,  0.20335051, ...,  0.2040113 ,\n",
       "         0.20090442,  0.20156469],\n",
       "       [ 0.20189497,  0.20118113,  0.20181983, ...,  0.20465838,\n",
       "         0.20052793,  0.20268737]])"
      ]
     },
     "execution_count": 16,
     "metadata": {},
     "output_type": "execute_result"
    }
   ],
   "source": [
    "model_LDA_best.components_"
   ]
  },
  {
   "cell_type": "code",
   "execution_count": 20,
   "metadata": {},
   "outputs": [
    {
     "name": "stdout",
     "output_type": "stream",
     "text": [
      "tópico: 1\n",
      "like shit yo nigga fuck got yeah ya know niggas cause don la bitch ain\n",
      "tópico: 2\n",
      "ll like ve away day night light sun come just heart way home long eyes\n",
      "tópico: 3\n",
      "got don just ain man like know say cause good said everybody money em better\n",
      "tópico: 4\n",
      "life god die death world dead blood soul time pain war live hell kill mind\n",
      "tópico: 5\n",
      "love oh don know yeah want baby let just ll ve come way say time\n"
     ]
    }
   ],
   "source": [
    "for topic_id, topic_name in enumerate(model_LDA_best.components_):\n",
    "    print(\"tópico: {}\".format(topic_id + 1))\n",
    "    print(\" \".join([vectorizer.get_feature_names()[i] for i in topic_name.argsort()[:-15 - 1: -1]]))"
   ]
  },
  {
   "cell_type": "markdown",
   "metadata": {},
   "source": [
    "## 5. Identificación de probabilidades"
   ]
  },
  {
   "cell_type": "code",
   "execution_count": 70,
   "metadata": {},
   "outputs": [],
   "source": [
    "model_LDA_best = model_LDA_best.transform(count_vectorizer_fit)"
   ]
  },
  {
   "cell_type": "code",
   "execution_count": 139,
   "metadata": {},
   "outputs": [],
   "source": [
    "topics_for_each_doc = pd.DataFrame(np.round(model_LDA_best, 3),index=df.index)"
   ]
  },
  {
   "cell_type": "code",
   "execution_count": 140,
   "metadata": {},
   "outputs": [],
   "source": [
    "topics_for_each_doc.columns = list(map(lambda x: \"T: {}\".format(x), range(1, model_LDA.best_estimator_.n_components + 1)))"
   ]
  },
  {
   "cell_type": "code",
   "execution_count": 141,
   "metadata": {},
   "outputs": [],
   "source": [
    "concatenated_df = pd.concat([df, topics_for_each_doc], axis=1)"
   ]
  },
  {
   "cell_type": "code",
   "execution_count": 142,
   "metadata": {},
   "outputs": [],
   "source": [
    "concatenated_df['highest_topic'] = np.argmax(topics_for_each_doc.values, axis=1) + 1"
   ]
  },
  {
   "cell_type": "code",
   "execution_count": 143,
   "metadata": {},
   "outputs": [
    {
     "data": {
      "text/html": [
       "<div>\n",
       "<style scoped>\n",
       "    .dataframe tbody tr th:only-of-type {\n",
       "        vertical-align: middle;\n",
       "    }\n",
       "\n",
       "    .dataframe tbody tr th {\n",
       "        vertical-align: top;\n",
       "    }\n",
       "\n",
       "    .dataframe thead th {\n",
       "        text-align: right;\n",
       "    }\n",
       "</style>\n",
       "<table border=\"1\" class=\"dataframe\">\n",
       "  <thead>\n",
       "    <tr style=\"text-align: right;\">\n",
       "      <th></th>\n",
       "      <th>artist</th>\n",
       "      <th>genre</th>\n",
       "      <th>song</th>\n",
       "      <th>lyrics</th>\n",
       "      <th>T: 1</th>\n",
       "      <th>T: 2</th>\n",
       "      <th>T: 3</th>\n",
       "      <th>T: 4</th>\n",
       "      <th>T: 5</th>\n",
       "      <th>highest_topic</th>\n",
       "    </tr>\n",
       "  </thead>\n",
       "  <tbody>\n",
       "    <tr>\n",
       "      <th>0</th>\n",
       "      <td>Anthrax</td>\n",
       "      <td>metal</td>\n",
       "      <td>Deathrider</td>\n",
       "      <td>Riding hard, high in the saddle \\n Winged stee...</td>\n",
       "      <td>0.006</td>\n",
       "      <td>0.734</td>\n",
       "      <td>0.075</td>\n",
       "      <td>0.180</td>\n",
       "      <td>0.006</td>\n",
       "      <td>2</td>\n",
       "    </tr>\n",
       "    <tr>\n",
       "      <th>1</th>\n",
       "      <td>Anthrax</td>\n",
       "      <td>metal</td>\n",
       "      <td>Metal Thrashing Mad</td>\n",
       "      <td>Racing down the road \\n In a street machine of...</td>\n",
       "      <td>0.005</td>\n",
       "      <td>0.319</td>\n",
       "      <td>0.268</td>\n",
       "      <td>0.403</td>\n",
       "      <td>0.005</td>\n",
       "      <td>4</td>\n",
       "    </tr>\n",
       "    <tr>\n",
       "      <th>2</th>\n",
       "      <td>Anthrax</td>\n",
       "      <td>metal</td>\n",
       "      <td>I'm Eighteen</td>\n",
       "      <td>Lines form on my face and hands \\n Lines form ...</td>\n",
       "      <td>0.002</td>\n",
       "      <td>0.312</td>\n",
       "      <td>0.002</td>\n",
       "      <td>0.683</td>\n",
       "      <td>0.002</td>\n",
       "      <td>4</td>\n",
       "    </tr>\n",
       "    <tr>\n",
       "      <th>3</th>\n",
       "      <td>Anthrax</td>\n",
       "      <td>metal</td>\n",
       "      <td>Panic</td>\n",
       "      <td>Move it to the front \\n Reaching for the light...</td>\n",
       "      <td>0.100</td>\n",
       "      <td>0.407</td>\n",
       "      <td>0.117</td>\n",
       "      <td>0.373</td>\n",
       "      <td>0.003</td>\n",
       "      <td>2</td>\n",
       "    </tr>\n",
       "    <tr>\n",
       "      <th>4</th>\n",
       "      <td>Anthrax</td>\n",
       "      <td>metal</td>\n",
       "      <td>Subjugator</td>\n",
       "      <td>Out in the streets \\n We're fighting tonight \\...</td>\n",
       "      <td>0.082</td>\n",
       "      <td>0.510</td>\n",
       "      <td>0.403</td>\n",
       "      <td>0.003</td>\n",
       "      <td>0.003</td>\n",
       "      <td>2</td>\n",
       "    </tr>\n",
       "  </tbody>\n",
       "</table>\n",
       "</div>"
      ],
      "text/plain": [
       "    artist  genre                 song  \\\n",
       "0  Anthrax  metal           Deathrider   \n",
       "1  Anthrax  metal  Metal Thrashing Mad   \n",
       "2  Anthrax  metal         I'm Eighteen   \n",
       "3  Anthrax  metal                Panic   \n",
       "4  Anthrax  metal           Subjugator   \n",
       "\n",
       "                                              lyrics   T: 1   T: 2   T: 3  \\\n",
       "0  Riding hard, high in the saddle \\n Winged stee...  0.006  0.734  0.075   \n",
       "1  Racing down the road \\n In a street machine of...  0.005  0.319  0.268   \n",
       "2  Lines form on my face and hands \\n Lines form ...  0.002  0.312  0.002   \n",
       "3  Move it to the front \\n Reaching for the light...  0.100  0.407  0.117   \n",
       "4  Out in the streets \\n We're fighting tonight \\...  0.082  0.510  0.403   \n",
       "\n",
       "    T: 4   T: 5  highest_topic  \n",
       "0  0.180  0.006              2  \n",
       "1  0.403  0.005              4  \n",
       "2  0.683  0.002              4  \n",
       "3  0.373  0.003              2  \n",
       "4  0.003  0.003              2  "
      ]
     },
     "execution_count": 143,
     "metadata": {},
     "output_type": "execute_result"
    }
   ],
   "source": [
    "concatenated_df.head()"
   ]
  },
  {
   "cell_type": "code",
   "execution_count": 144,
   "metadata": {
    "scrolled": false
   },
   "outputs": [
    {
     "data": {
      "image/png": "[encoded data removed]",
      "text/plain": [
       "<Figure size 432x288 with 2 Axes>"
      ]
     },
     "metadata": {
      "needs_background": "light"
     },
     "output_type": "display_data"
    }
   ],
   "source": [
    "sns.heatmap(concatenated_df.loc[:, 'T: 1':'T: 5'].corr(), annot=True, cmap=\"Blues\");"
   ]
  },
  {
   "cell_type": "markdown",
   "metadata": {},
   "source": [
    "Lo más relevante es la existe una correlación inversa entre los toícos 1 y 3, pero aún así no es tan fuerte, ya que no supero un umbral de -0.5."
   ]
  },
  {
   "cell_type": "code",
   "execution_count": 154,
   "metadata": {},
   "outputs": [],
   "source": [
    "def p_genre(df, artist):\n",
    "    return df[df['artist'] == artist].loc[:, 'T: 1':'T: 5']"
   ]
  },
  {
   "cell_type": "code",
   "execution_count": 155,
   "metadata": {},
   "outputs": [
    {
     "data": {
      "text/plain": [
       "bling-era       0.053376\n",
       "hardcore-rap    0.080988\n",
       "rock            0.265018\n",
       "metal           0.299559\n",
       "pop             0.301076\n",
       "dtype: float64"
      ]
     },
     "execution_count": 155,
     "metadata": {},
     "output_type": "execute_result"
    }
   ],
   "source": [
    "pr_gen = p_genre(concatenated_df, 'Anthrax')\n",
    "pr_gen.columns = ['hardcore-rap', 'rock', 'pop', 'metal', 'bling-era']\n",
    "pr_gen.apply(np.mean, axis=0).sort_values()"
   ]
  },
  {
   "cell_type": "code",
   "execution_count": 157,
   "metadata": {},
   "outputs": [
    {
     "data": {
      "image/png": "[encoded data removed]",
      "text/plain": [
       "<Figure size 720x576 with 5 Axes>"
      ]
     },
     "metadata": {
      "needs_background": "light"
     },
     "output_type": "display_data"
    }
   ],
   "source": [
    "plt.figure(figsize=(10, 8))\n",
    "for index, (colname, serie) in enumerate(pr_gen.iteritems()):\n",
    "    plt.subplot(5, 1, index + 1)\n",
    "    sns.distplot(serie)\n",
    "    plt.tight_layout()"
   ]
  },
  {
   "cell_type": "markdown",
   "metadata": {},
   "source": [
    "Existe una mayor probabilidad de que Anthrax, pertenezca a al género pop o metal."
   ]
  }
 ],
 "metadata": {
  "kernelspec": {
   "display_name": "Python 3",
   "language": "python",
   "name": "python3"
  },
  "language_info": {
   "codemirror_mode": {
    "name": "ipython",
    "version": 3
   },
   "file_extension": ".py",
   "mimetype": "text/x-python",
   "name": "python",
   "nbconvert_exporter": "python",
   "pygments_lexer": "ipython3",
   "version": "3.8.5"
  }
 },
 "nbformat": 4,
 "nbformat_minor": 4
}
